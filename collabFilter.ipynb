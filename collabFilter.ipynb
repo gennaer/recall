{
 "cells": [
  {
   "cell_type": "code",
   "execution_count": 182,
   "metadata": {},
   "outputs": [],
   "source": [
    "import pandas as pd\n",
    "import surprise\n",
    "from collections import defaultdict\n",
    "import numpy as np\n",
    "import seaborn as sns\n",
    "import matplotlib.pyplot as plt\n",
    "from sklearn.metrics import mean_squared_error, mean_absolute_error, precision_score\n",
    "import itertools\n",
    "import warnings\n",
    "warnings.filterwarnings(action='once')"
   ]
  },
  {
   "cell_type": "code",
   "execution_count": 2,
   "metadata": {},
   "outputs": [],
   "source": [
    "# load ratings for books and movies from people who rated both books and movies\n",
    "ratingsBook = pd.read_csv('/Users/genna/Downloads/commonBookRatings_amz.csv')\n",
    "ratingsMovie = pd.read_csv('/Users/genna/Downloads/commonMovieRatings_amz.csv')\n",
    "ratingsBook.drop(ratingsBook.columns[0],axis=1,inplace=True)\n",
    "ratingsMovie.drop(ratingsMovie.columns[0],axis=1,inplace=True)\n",
    "ratingsBook.rename(columns={'user':'userID', 'asin':'itemID'}, inplace=True)"
   ]
  },
  {
   "cell_type": "code",
   "execution_count": 3,
   "metadata": {},
   "outputs": [],
   "source": [
    "# restrict the datasets to those where each item was rated at least 10 times and each user rated at least 50 items\n",
    "keepRaters_book = ratingsBook.itemID.value_counts()>=10\n",
    "frequentRaters_books = keepRaters_book.index[keepRaters_book.values]\n",
    "ratingsBook_freq = ratingsBook[ratingsBook.itemID.isin(frequentRaters_books)]\n",
    "keepRatings_book = ratingsBook_freq.userID.value_counts()>=50\n",
    "frequentRatings_book = keepRatings_book.index[keepRatings_book.values]\n",
    "ratingsBook_freq = ratingsBook_freq[ratingsBook_freq.userID.isin(frequentRatings_book)]\n",
    "\n",
    "keepRaters_movie = ratingsMovie.itemID.value_counts()>=10\n",
    "frequentRaters_movie = keepRaters_movie.index[keepRaters_movie.values]\n",
    "ratingsMovie_freq = ratingsMovie[ratingsMovie.itemID.isin(frequentRaters_movie)]\n",
    "keepRatings_movie = ratingsMovie_freq.userID.value_counts()>=50\n",
    "frequentRatings_movie = keepRatings_movie.index[keepRatings_movie.values]\n",
    "ratingsMovie_freq = ratingsMovie_freq[ratingsMovie_freq.userID.isin(frequentRatings_movie)]"
   ]
  },
  {
   "cell_type": "code",
   "execution_count": 4,
   "metadata": {},
   "outputs": [
    {
     "name": "stdout",
     "output_type": "stream",
     "text": [
      "3486\n",
      "37123\n",
      "2360\n",
      "18392\n"
     ]
    }
   ],
   "source": [
    "print(len(ratingsBook_freq.userID.unique()))\n",
    "print(len(ratingsBook_freq.itemID.unique()))\n",
    "print(len(ratingsMovie_freq.userID.unique()))\n",
    "print(len(ratingsMovie_freq.itemID.unique()))"
   ]
  },
  {
   "cell_type": "code",
   "execution_count": null,
   "metadata": {},
   "outputs": [],
   "source": [
    "# this is only a small subset of the total number of books and movies in the database, \n",
    "# but represents the more popular items (ones rated by at least 10 people from people who rate lots of things)\n",
    "# the plan for the recommender will be to provide recommendations based on these items when possible \n",
    "# and to use content-based recommendations for the rest or a hybrid approach"
   ]
  },
  {
   "cell_type": "code",
   "execution_count": 5,
   "metadata": {},
   "outputs": [],
   "source": [
    "# split into train and test sets by each category of item\n",
    "np.random.seed(100)\n",
    "reader = surprise.Reader(rating_scale=(1.0, 5.0))\n",
    "\n",
    "# split in such a way that we get 20% of items from each user in the testing set\n",
    "# this is necessary because some people rated 1000+ items and we don't want to have a disproportionate \n",
    "# number of testing samples from one particular user\n",
    "dfBooks_test = ratingsBook_freq.groupby('userID').apply(lambda x: x.sample(frac=0.2))\n",
    "dfBooks_train = pd.concat([dfBooks_test,ratingsBook_freq]).drop_duplicates(keep=False)\n",
    "dfMovie_test = ratingsMovie_freq.groupby('userID').apply(lambda x: x.sample(frac=0.2))\n",
    "dfMovie_train = pd.concat([dfMovie_test,ratingsMovie_freq]).drop_duplicates(keep=False)\n",
    "\n",
    "dataBookTrain = surprise.Dataset.load_from_df(dfBooks_train[['userID', 'itemID', 'rating']], reader)\n",
    "trainsetBooks = dataBookTrain.build_full_trainset()\n",
    "dataBookTest = surprise.Dataset.load_from_df(dfBooks_test[['userID', 'itemID', 'rating']], reader)\n",
    "testsetBooks = dataBookTest.build_full_trainset().build_testset()\n",
    "\n",
    "dataMovieTrain = surprise.Dataset.load_from_df(dfMovie_train[['userID', 'itemID', 'rating']], reader)\n",
    "trainsetMovies = dataMovieTrain.build_full_trainset()\n",
    "dataMovieTest = surprise.Dataset.load_from_df(dfMovie_test[['userID', 'itemID', 'rating']], reader)\n",
    "testsetMovies = dataMovieTest.build_full_trainset().build_testset()"
   ]
  },
  {
   "cell_type": "code",
   "execution_count": 6,
   "metadata": {},
   "outputs": [
    {
     "name": "stdout",
     "output_type": "stream",
     "text": [
      "368939\n",
      "272985\n",
      "92233\n",
      "272985\n"
     ]
    }
   ],
   "source": [
    "# look at total number of ratings in each dataset\n",
    "print(dfBooks_train.shape[0])\n",
    "print(dfMovie_train.shape[0])\n",
    "print(dfBooks_test.shape[0])\n",
    "print(dfMovie_train.shape[0])"
   ]
  },
  {
   "cell_type": "code",
   "execution_count": 7,
   "metadata": {},
   "outputs": [],
   "source": [
    "# also, lump everything together -- this is how we'll primarily be training the model\n",
    "# but by splitting by category we can later test models for each category individually\n",
    "dfAllTrain = pd.concat([dfBooks_train, dfMovie_train])\n",
    "dataAll = surprise.Dataset.load_from_df(dfAllTrain[['userID', 'itemID', 'rating']], reader)\n",
    "\n",
    "testsetAll = testsetBooks + testsetMovies # these are just lists"
   ]
  },
  {
   "cell_type": "code",
   "execution_count": null,
   "metadata": {},
   "outputs": [],
   "source": [
    "# compare performance and compute time of various collaborative filtering algorithms\n",
    "# I choose to use MAE instead of RMSE because it is more easy described as the average error \n",
    "# in the predicted rating (num of stars) which is more interpretable for a general audience\n",
    "benchmark = []\n",
    "# Iterate over all algorithms\n",
    "for algorithm in [surprise.SVD(), surprise.SVDpp(), surprise.SlopeOne(), surprise.NMF(), \n",
    "                  surprise.NormalPredictor(), surprise.KNNBaseline(), \n",
    "                  surprise.KNNBasic(), surprise.KNNWithMeans(), surprise.KNNWithZScore(), \n",
    "                  surprise.BaselineOnly(), surprise.CoClustering()]: \n",
    "    # Perform cross validation\n",
    "    results = surprise.model_selection.cross_validate(algorithm, dataAll, measures=['MAE'], cv=5, verbose=False)\n",
    "    \n",
    "    # Get results & append algorithm name\n",
    "    tmp = pd.DataFrame.from_dict(results).mean(axis=0)\n",
    "    tmp = tmp.append(pd.Series([str(algorithm).split(' ')[0].split('.')[-1]], index=['Algorithm']))\n",
    "    benchmark.append(tmp)\n",
    "    \n",
    "pd.DataFrame(benchmark).set_index('Algorithm').sort_values('test_mae') \n",
    "# note that I actually only ran a few algos at a time, but leave the full code above"
   ]
  },
  {
   "cell_type": "code",
   "execution_count": null,
   "metadata": {},
   "outputs": [],
   "source": [
    "# SVDpp and the KNN models are the best in terms of performance, but take a long time to train and test\n",
    "# CoClustering is essentially kmeans which is fast for the default number of clusters here (3) \n",
    "# but gets much slower as you add more clusters which would be needed for more tailored recs\n",
    "# BaselineOnly is fastest, but (1) worse than SVD and still takes 6+ sec to train so\n",
    "# can't be used \"live\" each new item"
   ]
  },
  {
   "cell_type": "code",
   "execution_count": 21,
   "metadata": {},
   "outputs": [],
   "source": [
    "# hyperparameter tuning using grid search\n",
    "# the model selection above used default parameters\n",
    "# some of these parameters may have had an impact on training time, but tuning for all models was unrealistic\n",
    "# Instead, I selected some values based on a reasonable range from another project that was only trained on movie data\n",
    "# More time could have certainly been spent exploring this space, perhaps with a randomized search over a larger range,\n",
    "# but this seemed sufficient for the MVP\n",
    "param_grid = {'n_factors': [100, 150, 200], 'n_epochs': [20, 40], 'lr_all': [0.001, 0.005, 0.008],\n",
    "              'reg_all': [0.075, 0.1, 0.15]}"
   ]
  },
  {
   "cell_type": "code",
   "execution_count": 22,
   "metadata": {},
   "outputs": [],
   "source": [
    "gs = surprise.model_selection.GridSearchCV(surprise.SVD, param_grid, measures=['mae'], cv=5, n_jobs=-1)"
   ]
  },
  {
   "cell_type": "code",
   "execution_count": 23,
   "metadata": {},
   "outputs": [],
   "source": [
    "gs.fit(dataAll)"
   ]
  },
  {
   "cell_type": "code",
   "execution_count": 24,
   "metadata": {},
   "outputs": [
    {
     "name": "stdout",
     "output_type": "stream",
     "text": [
      "0.7003326046343273\n",
      "{'n_factors': 100, 'n_epochs': 40, 'lr_all': 0.008, 'reg_all': 0.1}\n"
     ]
    }
   ],
   "source": [
    "algo = gs.best_estimator['mae']\n",
    "print(gs.best_score['mae'])\n",
    "print(gs.best_params['mae'])"
   ]
  },
  {
   "cell_type": "code",
   "execution_count": 9,
   "metadata": {},
   "outputs": [
    {
     "data": {
      "text/plain": [
       "<surprise.prediction_algorithms.matrix_factorization.SVD at 0x1a1e3f19b0>"
      ]
     },
     "execution_count": 9,
     "metadata": {},
     "output_type": "execute_result"
    }
   ],
   "source": [
    "# retrain on the full training dataset using these parameters\n",
    "trainset = dataAll.build_full_trainset()\n",
    "algoAll = surprise.SVD(n_factors=100, n_epochs=40, lr_all=0.008, reg_all=0.1)\n",
    "algoAll.fit(trainset)"
   ]
  },
  {
   "cell_type": "code",
   "execution_count": 10,
   "metadata": {},
   "outputs": [
    {
     "name": "stdout",
     "output_type": "stream",
     "text": [
      "MAE:  0.4633\n"
     ]
    },
    {
     "data": {
      "text/plain": [
       "0.46330048164708487"
      ]
     },
     "execution_count": 10,
     "metadata": {},
     "output_type": "execute_result"
    }
   ],
   "source": [
    "# test on the training set\n",
    "train_pred = algoAll.test(trainset.build_testset())\n",
    "surprise.accuracy.mae(train_pred)"
   ]
  },
  {
   "cell_type": "code",
   "execution_count": 11,
   "metadata": {},
   "outputs": [
    {
     "name": "stdout",
     "output_type": "stream",
     "text": [
      "MAE:  0.6952\n",
      "RMSE: 0.9073\n"
     ]
    }
   ],
   "source": [
    "test_pred = algoAll.test(testsetAll)\n",
    "testAllMAE = surprise.accuracy.mae(test_pred)\n",
    "testAllRMSE = surprise.accuracy.rmse(test_pred)"
   ]
  },
  {
   "cell_type": "code",
   "execution_count": 12,
   "metadata": {},
   "outputs": [
    {
     "name": "stdout",
     "output_type": "stream",
     "text": [
      "MAE:  0.6807\n",
      "MAE:  0.7148\n"
     ]
    }
   ],
   "source": [
    "# let's also look at how well the model which was trained on both movie and book data does on each category separately\n",
    "test_pred_book = algoAll.test(testsetBooks)\n",
    "testAllBookMAE = surprise.accuracy.mae(test_pred_book)\n",
    "test_pred_movie = algoAll.test(testsetMovies)\n",
    "testAllMovieMAE = surprise.accuracy.mae(test_pred_movie)"
   ]
  },
  {
   "cell_type": "code",
   "execution_count": 13,
   "metadata": {},
   "outputs": [
    {
     "name": "stdout",
     "output_type": "stream",
     "text": [
      "RMSE: 0.8830\n",
      "RMSE: 0.9393\n"
     ]
    }
   ],
   "source": [
    "# not bad! \n",
    "# we are better at predicting book ratings than movie ratings, perhaps because there are more book examples\n",
    "\n",
    "#for fun we can compare against Netflix competition\n",
    "testAllBookRMSE = surprise.accuracy.rmse(test_pred_book)\n",
    "testAllMovieRMSE = surprise.accuracy.rmse(test_pred_movie)"
   ]
  },
  {
   "cell_type": "code",
   "execution_count": null,
   "metadata": {},
   "outputs": [],
   "source": [
    "# this is ~1% better than the original Cinematch score (pre-competition best)\n",
    "# but worse than the single SVD model (around 0.88)\n",
    "# perhaps the difference is due to smaller dataset or specific choice of hyperparameters"
   ]
  },
  {
   "cell_type": "code",
   "execution_count": null,
   "metadata": {},
   "outputs": [],
   "source": [
    "# let's look at another metric: precision@k / MAP@K\n",
    "# this will tell us \"out of the top-k recommendations, how many are actually relevant (highly rated by the user?)\""
   ]
  },
  {
   "cell_type": "code",
   "execution_count": 189,
   "metadata": {},
   "outputs": [],
   "source": [
    "# compute precision@k\n",
    "def precision_recall_at_k(predictions, k=10, threshold=3.5):\n",
    "    '''Return precision and recall at k metrics for each user.'''\n",
    "\n",
    "    # First map the predictions to each user.\n",
    "    user_est_true = defaultdict(list)\n",
    "    for uid, _, true_r, est, _ in predictions:\n",
    "        user_est_true[uid].append((est, true_r))\n",
    "\n",
    "    precisions = dict()\n",
    "    recalls = dict()\n",
    "    for uid, user_ratings in user_est_true.items():\n",
    "\n",
    "        # Sort user ratings by estimated value\n",
    "        user_ratings.sort(key=lambda x: x[0], reverse=True)\n",
    "\n",
    "        # Number of relevant items\n",
    "        n_rel = sum((true_r >= threshold) for (_, true_r) in user_ratings)\n",
    "\n",
    "        # Number of recommended items in top k\n",
    "        n_rec_k = sum((est >= threshold) for (est, _) in user_ratings[:k])\n",
    "\n",
    "        # Number of relevant and recommended items in top k\n",
    "        n_rel_and_rec_k = sum(((true_r >= threshold) and (est >= threshold))\n",
    "                              for (est, true_r) in user_ratings[:k])\n",
    "\n",
    "        # Precision@K: Proportion of recommended items that are relevant\n",
    "        precisions[uid] = n_rel_and_rec_k / n_rec_k if n_rec_k != 0 else 1\n",
    "\n",
    "        # Recall@K: Proportion of relevant items that are recommended\n",
    "        recalls[uid] = n_rel_and_rec_k / n_rel if n_rel != 0 else 1\n",
    "\n",
    "    return precisions, recalls"
   ]
  },
  {
   "cell_type": "code",
   "execution_count": 195,
   "metadata": {},
   "outputs": [],
   "source": [
    "prec = []\n",
    "rec = []\n",
    "for k in [1,3,5,10,15,20,30,50]:\n",
    "    precisions, recalls = precision_recall_at_k(test_pred, k=k, threshold=3.5)\n",
    "\n",
    "    # Precision and recall can then be averaged over all users\n",
    "    prec.append(sum(prec for prec in precisions.values()) / len(precisions))\n",
    "    rec.append(sum(rec for rec in recalls.values()) / len(recalls))"
   ]
  },
  {
   "cell_type": "code",
   "execution_count": 196,
   "metadata": {},
   "outputs": [
    {
     "data": {
      "text/plain": [
       "0.8437838594142424"
      ]
     },
     "execution_count": 196,
     "metadata": {},
     "output_type": "execute_result"
    }
   ],
   "source": [
    "# this is the mean precision at k (NOT the mean AVERAGE precision at k (MAP@k))\n",
    "np.mean(prec)"
   ]
  },
  {
   "cell_type": "code",
   "execution_count": 197,
   "metadata": {},
   "outputs": [],
   "source": [
    "import matplotlib.pyplot as plt\n",
    "%matplotlib inline"
   ]
  },
  {
   "cell_type": "code",
   "execution_count": 198,
   "metadata": {},
   "outputs": [],
   "source": [
    "precs = pd.DataFrame(list(zip([1,3,5,10,15,20,30,50],prec)), columns=['k','precision'])"
   ]
  },
  {
   "cell_type": "code",
   "execution_count": 199,
   "metadata": {},
   "outputs": [
    {
     "data": {
      "text/plain": [
       "Text(0.5, 1.0, 'Mean Precision @k')"
      ]
     },
     "execution_count": 199,
     "metadata": {},
     "output_type": "execute_result"
    },
    {
     "data": {
      "image/png": "[encoded data removed]",
      "text/plain": [
       "<Figure size 432x288 with 1 Axes>"
      ]
     },
     "metadata": {
      "needs_background": "light"
     },
     "output_type": "display_data"
    }
   ],
   "source": [
    "ax = precs.plot(x='k', y='precision', fontsize=16)\n",
    "ax.set_xlabel('k', fontsize=16)\n",
    "ax.get_legend().remove()\n",
    "ax.set_ylabel('precision',fontsize=16)\n",
    "ax.set_title('Mean Precision @k')"
   ]
  },
  {
   "cell_type": "code",
   "execution_count": null,
   "metadata": {},
   "outputs": [],
   "source": [
    "# let's also look at Mean Average Precision @k, MAP@k which takes ranking order into considering "
   ]
  },
  {
   "cell_type": "code",
   "execution_count": 90,
   "metadata": {},
   "outputs": [],
   "source": [
    "uids = []\n",
    "true = [] \n",
    "pred = []\n",
    "for uid, _, true_r, est, _  in test_pred:\n",
    "    true.append(true_r)\n",
    "    uids.append(uid)\n",
    "    pred.append(est)"
   ]
  },
  {
   "cell_type": "code",
   "execution_count": 187,
   "metadata": {},
   "outputs": [],
   "source": [
    "# here we use a slightly different code for precision@k that also keeps ranking info\n",
    "def precision_at_k(true, pred, user_ids, k, tol=3.):\n",
    "    unique_users = list(set(user_ids))\n",
    "    pred_binarized = [1 if x >= tol else 0 for x in pred]\n",
    "    true_binarized = [1 if x >= tol else 0 for x in true]\n",
    "    precisions = np.zeros(len(unique_users))\n",
    "    for i in range(len(unique_users)):\n",
    "        user_ind = [u == unique_users[i] for u in uids]\n",
    "        user_true_binarized = np.array(list(itertools.compress(true_binarized, user_ind)))\n",
    "        user_pred = np.array(list(itertools.compress(pred, user_ind)))\n",
    "        user_pred_binarized = list(itertools.compress(pred_binarized, user_ind))\n",
    "        ranked_ind = np.argsort(-user_pred)[:k]\n",
    "        #print(user_pred)\n",
    "        precisions[i] = precision_score([user_true_binarized[r] for r in ranked_ind], [user_pred_binarized[r] for r in ranked_ind])\n",
    "    return precisions\n",
    " \n",
    "def MAP_at_k(true, pred, user_ids, k, tol=3.):\n",
    "    unique_users = list(set(user_ids))\n",
    "    precisions_at_ks = np.zeros((k, len(unique_users)))\n",
    "    for i in range(k):\n",
    "        precisions_at_ks[i] = precision_at_k(true, pred, user_ids, i+1, tol)\n",
    "    return np.mean(precisions_at_ks[precisions_at_ks > 0])"
   ]
  },
  {
   "cell_type": "code",
   "execution_count": 188,
   "metadata": {},
   "outputs": [
    {
     "data": {
      "text/plain": [
       "0.9102798541455185"
      ]
     },
     "execution_count": 188,
     "metadata": {},
     "output_type": "execute_result"
    }
   ],
   "source": [
    "# This value seems very high. I checked and saw that there was some imbalance in how many items were rated <3.5 vs. greater than 3.5\n",
    "# which could be problematic, so I changed the threshold to 4, but got an even higher MAP. There is likely something wrong with the code\n",
    "# computing MAP_at_k, but I'm not quite sure what it is at this point\n",
    "MAP_at_k(true, pred, uids, 10, tol=4)"
   ]
  },
  {
   "cell_type": "code",
   "execution_count": null,
   "metadata": {},
   "outputs": [],
   "source": [
    "# for comparison to other models to evaluate how well our model is doing, let's also look at:\n",
    "# (1) models trained only on book or movie data\n",
    "# (2) baseline model (average user and item ratings only)\n",
    "# (3) models that only use mean rating"
   ]
  },
  {
   "cell_type": "code",
   "execution_count": 72,
   "metadata": {},
   "outputs": [
    {
     "data": {
      "text/plain": [
       "<surprise.prediction_algorithms.matrix_factorization.SVD at 0x1a62fb12b0>"
      ]
     },
     "execution_count": 72,
     "metadata": {},
     "output_type": "execute_result"
    }
   ],
   "source": [
    "# Note that the hyperparameters were selected based on the joint training set\n",
    "# we reuse them here for apples-to-apples comparison\n",
    "algoBook = surprise.SVD(n_factors=100, n_epochs=40, lr_all=0.008, reg_all=0.1)\n",
    "algoBook.fit(trainsetBooks)"
   ]
  },
  {
   "cell_type": "code",
   "execution_count": 113,
   "metadata": {},
   "outputs": [
    {
     "name": "stdout",
     "output_type": "stream",
     "text": [
      "MAE:  0.6756\n"
     ]
    }
   ],
   "source": [
    "test_pred_book = algoBook.test(testsetBooks)\n",
    "testBookMAE = surprise.accuracy.mae(test_pred_book)"
   ]
  },
  {
   "cell_type": "code",
   "execution_count": 74,
   "metadata": {},
   "outputs": [
    {
     "data": {
      "text/plain": [
       "<surprise.prediction_algorithms.matrix_factorization.SVD at 0x1a62fb1f28>"
      ]
     },
     "execution_count": 74,
     "metadata": {},
     "output_type": "execute_result"
    }
   ],
   "source": [
    "algoMovie = surprise.SVD(n_factors=100, n_epochs=40, lr_all=0.008, reg_all=0.1)\n",
    "algoMovie.fit(trainsetMovies)"
   ]
  },
  {
   "cell_type": "code",
   "execution_count": 114,
   "metadata": {},
   "outputs": [
    {
     "name": "stdout",
     "output_type": "stream",
     "text": [
      "MAE:  0.7157\n"
     ]
    }
   ],
   "source": [
    "test_pred_movie = algoMovie.test(testsetMovies)\n",
    "testMovieMAE = surprise.accuracy.mae(test_pred_movie)"
   ]
  },
  {
   "cell_type": "code",
   "execution_count": null,
   "metadata": {},
   "outputs": [],
   "source": [
    "# a model trained only on books does a little better than one on both books and movies\n",
    "# I was wondering whether knowing extra information about one medium would help make predictions about the other\n",
    "# but that doesn't seem to be the case here. It's possible that a different algo might be able to capture this\n",
    "# a little better"
   ]
  },
  {
   "cell_type": "code",
   "execution_count": 115,
   "metadata": {},
   "outputs": [
    {
     "name": "stdout",
     "output_type": "stream",
     "text": [
      "RMSE: 0.8800\n",
      "RMSE: 0.9400\n"
     ]
    }
   ],
   "source": [
    "# also compute RMSE for later\n",
    "testBookRMSE = surprise.accuracy.rmse(test_pred_book)\n",
    "testMovieRMSE = surprise.accuracy.rmse(test_pred_movie)"
   ]
  },
  {
   "cell_type": "code",
   "execution_count": 76,
   "metadata": {},
   "outputs": [
    {
     "name": "stdout",
     "output_type": "stream",
     "text": [
      "Estimating biases using als...\n",
      "Estimating biases using als...\n"
     ]
    },
    {
     "data": {
      "text/plain": [
       "<surprise.prediction_algorithms.baseline_only.BaselineOnly at 0x1a62fb14e0>"
      ]
     },
     "execution_count": 76,
     "metadata": {},
     "output_type": "execute_result"
    }
   ],
   "source": [
    "# baseline only model separately for books and movies\n",
    "algoBBook = surprise.BaselineOnly()\n",
    "algoBMovie = surprise.BaselineOnly()\n",
    "algoBBook.fit(trainsetBooks)\n",
    "algoBMovie.fit(trainsetMovies)"
   ]
  },
  {
   "cell_type": "code",
   "execution_count": 116,
   "metadata": {},
   "outputs": [
    {
     "name": "stdout",
     "output_type": "stream",
     "text": [
      "MAE:  0.6808\n",
      "MAE:  0.7281\n"
     ]
    }
   ],
   "source": [
    "test_pred_book = algoBBook.test(testsetBooks)\n",
    "testBookBaselineMAE = surprise.accuracy.mae(test_pred_book)\n",
    "test_pred_movie = algoBMovie.test(testsetMovies)\n",
    "testMovieBaselineMAE = surprise.accuracy.mae(test_pred_movie)"
   ]
  },
  {
   "cell_type": "code",
   "execution_count": null,
   "metadata": {},
   "outputs": [],
   "source": [
    "# Baseline model actually performs similarly on books, but is 1% worse on movies\n",
    "# not a huge improvement and it is much faster to train -- this is similar to what the CV model selection found\n",
    "# perhaps for web deployment this would be sufficient "
   ]
  },
  {
   "cell_type": "code",
   "execution_count": 117,
   "metadata": {},
   "outputs": [
    {
     "name": "stdout",
     "output_type": "stream",
     "text": [
      "RMSE: 0.8788\n",
      "RMSE: 0.9468\n"
     ]
    }
   ],
   "source": [
    "# also compute RMSE for graph later\n",
    "testBookBaselineRMSE = surprise.accuracy.rmse(test_pred_book)\n",
    "testMovieBaselineRMSE = surprise.accuracy.rmse(test_pred_movie)"
   ]
  },
  {
   "cell_type": "code",
   "execution_count": 95,
   "metadata": {},
   "outputs": [],
   "source": [
    "testBookAvgMAE = mean_absolute_error([r[2] for r in testsetBooks], [algoBook.trainset.global_mean]*np.shape(testsetBooks)[0])\n",
    "testMovieAvgMAE = mean_absolute_error([r[2] for r in testsetMovies], [algoMovie.trainset.global_mean]*np.shape(testsetMovies)[0])"
   ]
  },
  {
   "cell_type": "code",
   "execution_count": 96,
   "metadata": {},
   "outputs": [
    {
     "name": "stdout",
     "output_type": "stream",
     "text": [
      "0.792644616626686\n",
      "0.9026801306501283\n"
     ]
    }
   ],
   "source": [
    "print(testBookAvgMAE)\n",
    "print(testMovieAvgMAE)"
   ]
  },
  {
   "cell_type": "code",
   "execution_count": 118,
   "metadata": {},
   "outputs": [],
   "source": [
    "# also RMSE for later\n",
    "testBookAvgRMSE = np.sqrt(mean_squared_error([r[2] for r in testsetBooks], [algoBook.trainset.global_mean]*np.shape(testsetBooks)[0]))\n",
    "testMovieAvgRMSE = np.sqrt(mean_squared_error([r[2] for r in testsetMovies], [algoMovie.trainset.global_mean]*np.shape(testsetMovies)[0]))"
   ]
  },
  {
   "cell_type": "code",
   "execution_count": null,
   "metadata": {},
   "outputs": [],
   "source": [
    "# let's plot all of these results so we can compare more readily"
   ]
  },
  {
   "cell_type": "code",
   "execution_count": 119,
   "metadata": {},
   "outputs": [],
   "source": [
    "allMAEs = pd.DataFrame(list(zip([testBookAvgMAE, testBookBaselineMAE, testBookMAE, testAllBookMAE],[testMovieAvgMAE, testMovieBaselineMAE, testMovieMAE, testAllMovieMAE])), columns=['books','movies'])"
   ]
  },
  {
   "cell_type": "code",
   "execution_count": 120,
   "metadata": {},
   "outputs": [
    {
     "data": {
      "text/html": [
       "<div>\n",
       "<style scoped>\n",
       "    .dataframe tbody tr th:only-of-type {\n",
       "        vertical-align: middle;\n",
       "    }\n",
       "\n",
       "    .dataframe tbody tr th {\n",
       "        vertical-align: top;\n",
       "    }\n",
       "\n",
       "    .dataframe thead th {\n",
       "        text-align: right;\n",
       "    }\n",
       "</style>\n",
       "<table border=\"1\" class=\"dataframe\">\n",
       "  <thead>\n",
       "    <tr style=\"text-align: right;\">\n",
       "      <th></th>\n",
       "      <th>0</th>\n",
       "      <th>1</th>\n",
       "      <th>2</th>\n",
       "      <th>3</th>\n",
       "    </tr>\n",
       "  </thead>\n",
       "  <tbody>\n",
       "    <tr>\n",
       "      <th>books</th>\n",
       "      <td>0.792645</td>\n",
       "      <td>0.680774</td>\n",
       "      <td>0.675584</td>\n",
       "      <td>0.680949</td>\n",
       "    </tr>\n",
       "    <tr>\n",
       "      <th>movies</th>\n",
       "      <td>0.902680</td>\n",
       "      <td>0.728140</td>\n",
       "      <td>0.715669</td>\n",
       "      <td>0.715321</td>\n",
       "    </tr>\n",
       "  </tbody>\n",
       "</table>\n",
       "</div>"
      ],
      "text/plain": [
       "               0         1         2         3\n",
       "books   0.792645  0.680774  0.675584  0.680949\n",
       "movies  0.902680  0.728140  0.715669  0.715321"
      ]
     },
     "execution_count": 120,
     "metadata": {},
     "output_type": "execute_result"
    }
   ],
   "source": [
    "allMAEs.transpose()"
   ]
  },
  {
   "cell_type": "code",
   "execution_count": 121,
   "metadata": {},
   "outputs": [
    {
     "data": {
      "image/png": "[encoded data removed]",
      "text/plain": [
       "<Figure size 432x288 with 1 Axes>"
      ]
     },
     "metadata": {
      "needs_background": "light"
     },
     "output_type": "display_data"
    }
   ],
   "source": [
    "ax = allMAEs.transpose().plot(kind='bar', fontsize=16)\n",
    "width = 0.35\n",
    "ax.set_title('Ratings Prediction Error', fontsize=16)\n",
    "#ax.set_xticks(ind + width / 2)\n",
    "ax.set_xticklabels(('Books', 'Movies'))\n",
    "for tick in ax.get_xticklabels():\n",
    "    tick.set_rotation(0)\n",
    "ax.set_ylabel('MAE', fontsize=16)\n",
    "ax.set_ylim([0.6,0.95])\n",
    "\n",
    "ax.legend(['Only Mean Ratings', 'Mean Ratings + Mean User Ratings', 'Single Medium','Both Media'], loc='upper left')\n",
    "ax.autoscale_view()"
   ]
  },
  {
   "cell_type": "code",
   "execution_count": null,
   "metadata": {},
   "outputs": [],
   "source": [
    "# let's also include a plot with RMSE so we can directly compare to results from Netflix challenge"
   ]
  },
  {
   "cell_type": "code",
   "execution_count": 122,
   "metadata": {},
   "outputs": [],
   "source": [
    "allRMSEs = pd.DataFrame(list(zip([testBookAvgRMSE, testBookBaselineRMSE, testBookRMSE, testAllBookRMSE],[testMovieAvgRMSE, testMovieBaselineRMSE, testMovieRMSE, testAllMovieRMSE])), columns=['books','movies'])"
   ]
  },
  {
   "cell_type": "code",
   "execution_count": 124,
   "metadata": {},
   "outputs": [
    {
     "data": {
      "text/html": [
       "<div>\n",
       "<style scoped>\n",
       "    .dataframe tbody tr th:only-of-type {\n",
       "        vertical-align: middle;\n",
       "    }\n",
       "\n",
       "    .dataframe tbody tr th {\n",
       "        vertical-align: top;\n",
       "    }\n",
       "\n",
       "    .dataframe thead th {\n",
       "        text-align: right;\n",
       "    }\n",
       "</style>\n",
       "<table border=\"1\" class=\"dataframe\">\n",
       "  <thead>\n",
       "    <tr style=\"text-align: right;\">\n",
       "      <th></th>\n",
       "      <th>0</th>\n",
       "      <th>1</th>\n",
       "      <th>2</th>\n",
       "      <th>3</th>\n",
       "    </tr>\n",
       "  </thead>\n",
       "  <tbody>\n",
       "    <tr>\n",
       "      <th>books</th>\n",
       "      <td>1.010307</td>\n",
       "      <td>0.878849</td>\n",
       "      <td>0.879998</td>\n",
       "      <td>0.883377</td>\n",
       "    </tr>\n",
       "    <tr>\n",
       "      <th>movies</th>\n",
       "      <td>1.158028</td>\n",
       "      <td>0.946764</td>\n",
       "      <td>0.940007</td>\n",
       "      <td>0.939707</td>\n",
       "    </tr>\n",
       "  </tbody>\n",
       "</table>\n",
       "</div>"
      ],
      "text/plain": [
       "               0         1         2         3\n",
       "books   1.010307  0.878849  0.879998  0.883377\n",
       "movies  1.158028  0.946764  0.940007  0.939707"
      ]
     },
     "execution_count": 124,
     "metadata": {},
     "output_type": "execute_result"
    }
   ],
   "source": [
    "allRMSEs.transpose()"
   ]
  },
  {
   "cell_type": "code",
   "execution_count": 125,
   "metadata": {},
   "outputs": [
    {
     "data": {
      "image/png": "[encoded data removed]",
      "text/plain": [
       "<Figure size 432x288 with 1 Axes>"
      ]
     },
     "metadata": {
      "needs_background": "light"
     },
     "output_type": "display_data"
    }
   ],
   "source": [
    "ax = allRMSEs.transpose().plot(kind='bar', fontsize=16)\n",
    "width = 0.35\n",
    "ax.set_title('Ratings Prediction Error', fontsize=16)\n",
    "#ax.set_xticks(ind + width / 2)\n",
    "ax.set_xticklabels(('Books', 'Movies'))\n",
    "for tick in ax.get_xticklabels():\n",
    "    tick.set_rotation(0)\n",
    "ax.set_ylabel('RMSE', fontsize=16)\n",
    "ax.set_ylim([0.8,1.2])\n",
    "\n",
    "ax.legend(['Only Mean Ratings', 'Mean Ratings + Mean User Ratings', 'Single Medium','Both Media'], loc='upper left')\n",
    "ax.autoscale_view()"
   ]
  },
  {
   "cell_type": "code",
   "execution_count": 126,
   "metadata": {},
   "outputs": [],
   "source": [
    "# train the final model that will be used on the site on all of the data (including testing)\n",
    "dfAll = pd.concat([ratingsBook_freq, ratingsMovie_freq])\n",
    "dataAll2 = surprise.Dataset.load_from_df(dfAll[['userID', 'itemID', 'rating']], reader)"
   ]
  },
  {
   "cell_type": "code",
   "execution_count": 127,
   "metadata": {},
   "outputs": [],
   "source": [
    "algoAll2 = surprise.SVD(n_factors=100, n_epochs=40, lr_all=0.008, reg_all=0.1)"
   ]
  },
  {
   "cell_type": "code",
   "execution_count": 128,
   "metadata": {},
   "outputs": [
    {
     "data": {
      "text/plain": [
       "<surprise.prediction_algorithms.matrix_factorization.SVD at 0x1a24ef7710>"
      ]
     },
     "execution_count": 128,
     "metadata": {},
     "output_type": "execute_result"
    }
   ],
   "source": [
    "algoAll2.fit(dataAll2.build_full_trainset())"
   ]
  },
  {
   "cell_type": "code",
   "execution_count": 130,
   "metadata": {},
   "outputs": [
    {
     "name": "stdout",
     "output_type": "stream",
     "text": [
      "The dump has been saved as file newCollab2\n"
     ]
    }
   ],
   "source": [
    "surprise.dump.dump('newCollab2', algo=algoAll2, verbose=1)"
   ]
  },
  {
   "cell_type": "code",
   "execution_count": null,
   "metadata": {},
   "outputs": [],
   "source": [
    "# generate prediction matrix: predicted ratings for all items"
   ]
  },
  {
   "cell_type": "code",
   "execution_count": 132,
   "metadata": {},
   "outputs": [],
   "source": [
    "r = algoAll2.trainset.global_mean + algoAll2.bu.reshape(np.shape(algoAll2.bu)[0],1) + algoAll2.bi.reshape(np.shape(algoAll2.bi)[0],1).transpose() + np.matmul(algoAll2.pu,algoAll2.qi.transpose())"
   ]
  },
  {
   "cell_type": "code",
   "execution_count": 133,
   "metadata": {},
   "outputs": [],
   "source": [
    "r = r.astype('single')"
   ]
  },
  {
   "cell_type": "code",
   "execution_count": 134,
   "metadata": {},
   "outputs": [],
   "source": [
    "np.save('webapp2/recallapp/data/predMatrix2.npy',r)"
   ]
  },
  {
   "cell_type": "code",
   "execution_count": null,
   "metadata": {},
   "outputs": [],
   "source": []
  }
 ],
 "metadata": {
  "kernelspec": {
   "display_name": "Python 3",
   "language": "python",
   "name": "python3"
  },
  "language_info": {
   "codemirror_mode": {
    "name": "ipython",
    "version": 3
   },
   "file_extension": ".py",
   "mimetype": "text/x-python",
   "name": "python",
   "nbconvert_exporter": "python",
   "pygments_lexer": "ipython3",
   "version": "3.7.3"
  }
 },
 "nbformat": 4,
 "nbformat_minor": 2
}
