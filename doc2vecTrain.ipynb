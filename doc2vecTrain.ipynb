{
 "cells": [
  {
   "cell_type": "code",
   "execution_count": 3,
   "metadata": {},
   "outputs": [],
   "source": [
    "import pandas as pd\n",
    "from nltk import RegexpTokenizer\n",
    "from nltk.corpus import stopwords\n",
    "import re\n",
    "import string\n",
    "from gensim.parsing.preprocessing import STOPWORDS as stop_words\n",
    "from gensim.parsing.preprocessing import preprocess_documents\n",
    "from gensim.models import Doc2Vec, Phrases\n",
    "from gensim.models.doc2vec import TaggedDocument\n",
    "from random import shuffle\n",
    "import multiprocessing"
   ]
  },
  {
   "cell_type": "code",
   "execution_count": 2,
   "metadata": {},
   "outputs": [],
   "source": [
    "# load in movie reviews and drop some extra columns\n",
    "dfm = pd.read_csv('/Users/genna/Downloads/movies_commonReviewers_grouped.csv')\n",
    "dfm.drop(dfm.columns[0], axis=1, inplace=True)\n",
    "dfm.drop(dfm.columns[0], axis=1, inplace=True)"
   ]
  },
  {
   "cell_type": "code",
   "execution_count": 6,
   "metadata": {},
   "outputs": [
    {
     "data": {
      "text/html": [
       "<div>\n",
       "<style scoped>\n",
       "    .dataframe tbody tr th:only-of-type {\n",
       "        vertical-align: middle;\n",
       "    }\n",
       "\n",
       "    .dataframe tbody tr th {\n",
       "        vertical-align: top;\n",
       "    }\n",
       "\n",
       "    .dataframe thead th {\n",
       "        text-align: right;\n",
       "    }\n",
       "</style>\n",
       "<table border=\"1\" class=\"dataframe\">\n",
       "  <thead>\n",
       "    <tr style=\"text-align: right;\">\n",
       "      <th></th>\n",
       "      <th>asin</th>\n",
       "      <th>title</th>\n",
       "      <th>imUrl</th>\n",
       "      <th>reviewText</th>\n",
       "      <th>genre</th>\n",
       "    </tr>\n",
       "  </thead>\n",
       "  <tbody>\n",
       "    <tr>\n",
       "      <th>0</th>\n",
       "      <td>0005019281</td>\n",
       "      <td>An American Christmas Carol</td>\n",
       "      <td>http://ecx.images-amazon.com/images/I/51EN601N...</td>\n",
       "      <td>This is a charming version of the classic Dick...</td>\n",
       "      <td></td>\n",
       "    </tr>\n",
       "    <tr>\n",
       "      <th>1</th>\n",
       "      <td>0005119367</td>\n",
       "      <td>Joseph</td>\n",
       "      <td>http://ecx.images-amazon.com/images/I/51PfmPOP...</td>\n",
       "      <td>Though this interpretation of Joseph's life ha...</td>\n",
       "      <td>Warner Home Video All Titles</td>\n",
       "    </tr>\n",
       "    <tr>\n",
       "      <th>2</th>\n",
       "      <td>0307141985</td>\n",
       "      <td>Mouse on the Mayflower</td>\n",
       "      <td>http://ecx.images-amazon.com/images/I/21T26ZVP...</td>\n",
       "      <td>\"Set sail with the tiniest Pilgrim for a music...</td>\n",
       "      <td>Sony Pictures Home Entertainment All Sony ...</td>\n",
       "    </tr>\n",
       "    <tr>\n",
       "      <th>3</th>\n",
       "      <td>0307142469</td>\n",
       "      <td>Frosty the Snowman</td>\n",
       "      <td>http://ecx.images-amazon.com/images/I/51VE7CDD...</td>\n",
       "      <td>Have always loved the old movies and this is t...</td>\n",
       "      <td>Science Fiction  Fantasy Science Fiction An...</td>\n",
       "    </tr>\n",
       "    <tr>\n",
       "      <th>4</th>\n",
       "      <td>0307142477</td>\n",
       "      <td>Frosty Returns</td>\n",
       "      <td>http://ecx.images-amazon.com/images/I/513AB22V...</td>\n",
       "      <td>Great Christmas classic, always enjoy watching...</td>\n",
       "      <td>Science Fiction  Fantasy Science Fiction An...</td>\n",
       "    </tr>\n",
       "  </tbody>\n",
       "</table>\n",
       "</div>"
      ],
      "text/plain": [
       "         asin                         title  \\\n",
       "0  0005019281  An American Christmas Carol    \n",
       "1  0005119367                       Joseph    \n",
       "2  0307141985       Mouse on the Mayflower    \n",
       "3  0307142469           Frosty the Snowman    \n",
       "4  0307142477               Frosty Returns    \n",
       "\n",
       "                                               imUrl  \\\n",
       "0  http://ecx.images-amazon.com/images/I/51EN601N...   \n",
       "1  http://ecx.images-amazon.com/images/I/51PfmPOP...   \n",
       "2  http://ecx.images-amazon.com/images/I/21T26ZVP...   \n",
       "3  http://ecx.images-amazon.com/images/I/51VE7CDD...   \n",
       "4  http://ecx.images-amazon.com/images/I/513AB22V...   \n",
       "\n",
       "                                          reviewText  \\\n",
       "0  This is a charming version of the classic Dick...   \n",
       "1  Though this interpretation of Joseph's life ha...   \n",
       "2  \"Set sail with the tiniest Pilgrim for a music...   \n",
       "3  Have always loved the old movies and this is t...   \n",
       "4  Great Christmas classic, always enjoy watching...   \n",
       "\n",
       "                                               genre  \n",
       "0                                                     \n",
       "1                       Warner Home Video All Titles  \n",
       "2      Sony Pictures Home Entertainment All Sony ...  \n",
       "3     Science Fiction  Fantasy Science Fiction An...  \n",
       "4     Science Fiction  Fantasy Science Fiction An...  "
      ]
     },
     "execution_count": 6,
     "metadata": {},
     "output_type": "execute_result"
    }
   ],
   "source": [
    "# take a look at the data\n",
    "dfm.head()"
   ]
  },
  {
   "cell_type": "code",
   "execution_count": 7,
   "metadata": {},
   "outputs": [
    {
     "data": {
      "text/plain": [
       "223"
      ]
     },
     "execution_count": 7,
     "metadata": {},
     "output_type": "execute_result"
    }
   ],
   "source": [
    "# some titles are also missing and could not be found by their ASIN\n",
    "sum(dfm.title.isna())"
   ]
  },
  {
   "cell_type": "code",
   "execution_count": 8,
   "metadata": {},
   "outputs": [],
   "source": [
    "# there are not many of them, so we just remove those entries\n",
    "dfm.drop(dfm[dfm.title.isnull()].index, inplace=True)"
   ]
  },
  {
   "cell_type": "code",
   "execution_count": 13,
   "metadata": {},
   "outputs": [],
   "source": [
    "# some genres as missing so we make them empty strings\n",
    "dfm['genre'] = dfm['genre'].fillna('')"
   ]
  },
  {
   "cell_type": "code",
   "execution_count": 25,
   "metadata": {},
   "outputs": [],
   "source": [
    "# there might be nicer ways of formatted genres, but for now we just concatenate\n",
    "# with the review text (other option: treat as doc tags)\n",
    "dfm['reviewText'] = dfm['reviewText'] + dfm['genre']"
   ]
  },
  {
   "cell_type": "code",
   "execution_count": 33,
   "metadata": {},
   "outputs": [],
   "source": [
    "# get rid of the genre column and take a look at the resulting data\n",
    "dfm.drop(columns='genre', axis=1, inplace=True)\n",
    "dfm.head()"
   ]
  },
  {
   "cell_type": "code",
   "execution_count": 9,
   "metadata": {},
   "outputs": [],
   "source": [
    "# repeat this process for books\n",
    "dfb = pd.read_csv('/Users/genna/Downloads/books_commonReviewers_grouped.csv')"
   ]
  },
  {
   "cell_type": "code",
   "execution_count": 11,
   "metadata": {},
   "outputs": [
    {
     "data": {
      "text/html": [
       "<div>\n",
       "<style scoped>\n",
       "    .dataframe tbody tr th:only-of-type {\n",
       "        vertical-align: middle;\n",
       "    }\n",
       "\n",
       "    .dataframe tbody tr th {\n",
       "        vertical-align: top;\n",
       "    }\n",
       "\n",
       "    .dataframe thead th {\n",
       "        text-align: right;\n",
       "    }\n",
       "</style>\n",
       "<table border=\"1\" class=\"dataframe\">\n",
       "  <thead>\n",
       "    <tr style=\"text-align: right;\">\n",
       "      <th></th>\n",
       "      <th>Unnamed: 0</th>\n",
       "      <th>asin</th>\n",
       "      <th>reviewText</th>\n",
       "      <th>title</th>\n",
       "      <th>imUrl</th>\n",
       "    </tr>\n",
       "  </thead>\n",
       "  <tbody>\n",
       "    <tr>\n",
       "      <th>0</th>\n",
       "      <td>0</td>\n",
       "      <td>000100039X</td>\n",
       "      <td>This is one my must have books. It is a master...</td>\n",
       "      <td>The Prophet</td>\n",
       "      <td>http://ecx.images-amazon.com/images/I/81ZKLPiv...</td>\n",
       "    </tr>\n",
       "    <tr>\n",
       "      <th>1</th>\n",
       "      <td>1</td>\n",
       "      <td>0001055178</td>\n",
       "      <td>Historic fiction requires exceptional skills t...</td>\n",
       "      <td>Master Georgie</td>\n",
       "      <td>http://ecx.images-amazon.com/images/I/51ZSC6TK...</td>\n",
       "    </tr>\n",
       "    <tr>\n",
       "      <th>2</th>\n",
       "      <td>2</td>\n",
       "      <td>0001473123</td>\n",
       "      <td>This is a wonderful book to study with The Gre...</td>\n",
       "      <td>The Book of Revelation</td>\n",
       "      <td>http://ecx.images-amazon.com/images/I/317G8R2T...</td>\n",
       "    </tr>\n",
       "    <tr>\n",
       "      <th>3</th>\n",
       "      <td>3</td>\n",
       "      <td>0001473727</td>\n",
       "      <td>This book is amazing. The charts really make i...</td>\n",
       "      <td>The Greatest Book on &amp;quot;Dispensational Trut...</td>\n",
       "      <td>http://ecx.images-amazon.com/images/I/512M299K...</td>\n",
       "    </tr>\n",
       "    <tr>\n",
       "      <th>4</th>\n",
       "      <td>4</td>\n",
       "      <td>0001473905</td>\n",
       "      <td>This book is an excellent book to read in addi...</td>\n",
       "      <td>Rightly Dividing The Word</td>\n",
       "      <td>http://ecx.images-amazon.com/images/I/61KPC59B...</td>\n",
       "    </tr>\n",
       "  </tbody>\n",
       "</table>\n",
       "</div>"
      ],
      "text/plain": [
       "   Unnamed: 0        asin                                         reviewText  \\\n",
       "0           0  000100039X  This is one my must have books. It is a master...   \n",
       "1           1  0001055178  Historic fiction requires exceptional skills t...   \n",
       "2           2  0001473123  This is a wonderful book to study with The Gre...   \n",
       "3           3  0001473727  This book is amazing. The charts really make i...   \n",
       "4           4  0001473905  This book is an excellent book to read in addi...   \n",
       "\n",
       "                                               title  \\\n",
       "0                                        The Prophet   \n",
       "1                                     Master Georgie   \n",
       "2                             The Book of Revelation   \n",
       "3  The Greatest Book on &quot;Dispensational Trut...   \n",
       "4                          Rightly Dividing The Word   \n",
       "\n",
       "                                               imUrl  \n",
       "0  http://ecx.images-amazon.com/images/I/81ZKLPiv...  \n",
       "1  http://ecx.images-amazon.com/images/I/51ZSC6TK...  \n",
       "2  http://ecx.images-amazon.com/images/I/317G8R2T...  \n",
       "3  http://ecx.images-amazon.com/images/I/512M299K...  \n",
       "4  http://ecx.images-amazon.com/images/I/61KPC59B...  "
      ]
     },
     "execution_count": 11,
     "metadata": {},
     "output_type": "execute_result"
    }
   ],
   "source": [
    "dfb.head()"
   ]
  },
  {
   "cell_type": "code",
   "execution_count": 10,
   "metadata": {},
   "outputs": [],
   "source": [
    "dfb.drop(dfb.columns[0], axis=1, inplace=True)"
   ]
  },
  {
   "cell_type": "code",
   "execution_count": 22,
   "metadata": {},
   "outputs": [
    {
     "data": {
      "text/plain": [
       "34522"
      ]
     },
     "execution_count": 22,
     "metadata": {},
     "output_type": "execute_result"
    }
   ],
   "source": [
    "sum(dfb.isnull().title)"
   ]
  },
  {
   "cell_type": "code",
   "execution_count": 11,
   "metadata": {},
   "outputs": [],
   "source": [
    "dfb.drop(dfb[dfb['title'].isnull()].index, inplace=True)"
   ]
  },
  {
   "cell_type": "code",
   "execution_count": 40,
   "metadata": {},
   "outputs": [
    {
     "data": {
      "text/plain": [
       "(237801, 4)"
      ]
     },
     "execution_count": 40,
     "metadata": {},
     "output_type": "execute_result"
    }
   ],
   "source": [
    "# that's a lot of books to drop, \n",
    "# but only a small percentage of the total number of books\n",
    "# those also couldn't be found easily by their ASIN (=ISBN)\n",
    "dfb.shape"
   ]
  },
  {
   "cell_type": "code",
   "execution_count": 41,
   "metadata": {},
   "outputs": [
    {
     "data": {
      "text/plain": [
       "(49050, 4)"
      ]
     },
     "execution_count": 41,
     "metadata": {},
     "output_type": "execute_result"
    }
   ],
   "source": [
    "dfm.shape"
   ]
  },
  {
   "cell_type": "code",
   "execution_count": null,
   "metadata": {},
   "outputs": [],
   "source": [
    "# keep track of books and movies\n",
    "dfm['medium'] = 'movie'\n",
    "ddb['medium'] = 'book'"
   ]
  },
  {
   "cell_type": "code",
   "execution_count": 13,
   "metadata": {},
   "outputs": [
    {
     "name": "stderr",
     "output_type": "stream",
     "text": [
      "/anaconda3/envs/insight/lib/python3.7/site-packages/ipykernel_launcher.py:1: FutureWarning: Sorting because non-concatenation axis is not aligned. A future version\n",
      "of pandas will change to not sort by default.\n",
      "\n",
      "To accept the future behavior, pass 'sort=False'.\n",
      "\n",
      "To retain the current behavior and silence the warning, pass 'sort=True'.\n",
      "\n",
      "  \"\"\"Entry point for launching an IPython kernel.\n"
     ]
    }
   ],
   "source": [
    "# combine all of the data together\n",
    "dfAll = pd.concat([dfb, dfm])"
   ]
  },
  {
   "cell_type": "code",
   "execution_count": 23,
   "metadata": {},
   "outputs": [
    {
     "data": {
      "text/html": [
       "<div>\n",
       "<style scoped>\n",
       "    .dataframe tbody tr th:only-of-type {\n",
       "        vertical-align: middle;\n",
       "    }\n",
       "\n",
       "    .dataframe tbody tr th {\n",
       "        vertical-align: top;\n",
       "    }\n",
       "\n",
       "    .dataframe thead th {\n",
       "        text-align: right;\n",
       "    }\n",
       "</style>\n",
       "<table border=\"1\" class=\"dataframe\">\n",
       "  <thead>\n",
       "    <tr style=\"text-align: right;\">\n",
       "      <th></th>\n",
       "      <th>asin</th>\n",
       "      <th>imUrl</th>\n",
       "      <th>title</th>\n",
       "      <th>medium</th>\n",
       "    </tr>\n",
       "  </thead>\n",
       "  <tbody>\n",
       "    <tr>\n",
       "      <th>0</th>\n",
       "      <td>000100039X</td>\n",
       "      <td>http://ecx.images-amazon.com/images/I/81ZKLPiv...</td>\n",
       "      <td>The Prophet</td>\n",
       "      <td>book</td>\n",
       "    </tr>\n",
       "    <tr>\n",
       "      <th>1</th>\n",
       "      <td>0001055178</td>\n",
       "      <td>http://ecx.images-amazon.com/images/I/51ZSC6TK...</td>\n",
       "      <td>Master Georgie</td>\n",
       "      <td>book</td>\n",
       "    </tr>\n",
       "    <tr>\n",
       "      <th>2</th>\n",
       "      <td>0001473123</td>\n",
       "      <td>http://ecx.images-amazon.com/images/I/317G8R2T...</td>\n",
       "      <td>The Book of Revelation</td>\n",
       "      <td>book</td>\n",
       "    </tr>\n",
       "    <tr>\n",
       "      <th>3</th>\n",
       "      <td>0001473727</td>\n",
       "      <td>http://ecx.images-amazon.com/images/I/512M299K...</td>\n",
       "      <td>The Greatest Book on &amp;quot;Dispensational Trut...</td>\n",
       "      <td>book</td>\n",
       "    </tr>\n",
       "    <tr>\n",
       "      <th>4</th>\n",
       "      <td>0001473905</td>\n",
       "      <td>http://ecx.images-amazon.com/images/I/61KPC59B...</td>\n",
       "      <td>Rightly Dividing The Word</td>\n",
       "      <td>book</td>\n",
       "    </tr>\n",
       "  </tbody>\n",
       "</table>\n",
       "</div>"
      ],
      "text/plain": [
       "         asin                                              imUrl  \\\n",
       "0  000100039X  http://ecx.images-amazon.com/images/I/81ZKLPiv...   \n",
       "1  0001055178  http://ecx.images-amazon.com/images/I/51ZSC6TK...   \n",
       "2  0001473123  http://ecx.images-amazon.com/images/I/317G8R2T...   \n",
       "3  0001473727  http://ecx.images-amazon.com/images/I/512M299K...   \n",
       "4  0001473905  http://ecx.images-amazon.com/images/I/61KPC59B...   \n",
       "\n",
       "                                               title medium  \n",
       "0                                        The Prophet   book  \n",
       "1                                     Master Georgie   book  \n",
       "2                             The Book of Revelation   book  \n",
       "3  The Greatest Book on &quot;Dispensational Trut...   book  \n",
       "4                          Rightly Dividing The Word   book  "
      ]
     },
     "execution_count": 23,
     "metadata": {},
     "output_type": "execute_result"
    }
   ],
   "source": [
    "dfAll.head()"
   ]
  },
  {
   "cell_type": "code",
   "execution_count": 92,
   "metadata": {},
   "outputs": [],
   "source": [
    "# clear up some space\n",
    "del dfb, dfm"
   ]
  },
  {
   "cell_type": "code",
   "execution_count": 54,
   "metadata": {},
   "outputs": [
    {
     "data": {
      "text/plain": [
       "10"
      ]
     },
     "execution_count": 54,
     "metadata": {},
     "output_type": "execute_result"
    }
   ],
   "source": [
    "# some are missing review text for some reason, but only a few, so drop these\n",
    "sum(dfAll.reviewText.isnull())"
   ]
  },
  {
   "cell_type": "code",
   "execution_count": 55,
   "metadata": {},
   "outputs": [],
   "source": [
    "dfAll.drop(dfAll[dfAll.reviewText.isnull()].index, inplace=True)"
   ]
  },
  {
   "cell_type": "code",
   "execution_count": 44,
   "metadata": {},
   "outputs": [],
   "source": [
    "# start cleaning reviews:\n",
    "# we don't want to restrict words to English dictionary because we want to \n",
    "# allow people to search by author name or other funny titles\n",
    "\n",
    "# remove stop words\n",
    "#tokenizer = RegexpTokenizer('\\w+|\\$[\\d\\.]+|\\S+')\n",
    "#stopword_set = set(stopwords.words('english'))"
   ]
  },
  {
   "cell_type": "code",
   "execution_count": 45,
   "metadata": {},
   "outputs": [],
   "source": [
    "RE_PUNCT = re.compile('([%s])+' % re.escape(string.punctuation), re.UNICODE)"
   ]
  },
  {
   "cell_type": "code",
   "execution_count": 46,
   "metadata": {},
   "outputs": [],
   "source": [
    "# remove punctuation, convert to lowercase, split (tokenize)\n",
    "def preprocess(text):\n",
    "    # Remove all punctuation and make all lowercase \n",
    "    return RE_PUNCT.sub(\" \", text).lower().split()"
   ]
  },
  {
   "cell_type": "code",
   "execution_count": null,
   "metadata": {},
   "outputs": [],
   "source": [
    "#preprocess_documents([dfAll.title.iloc[0], dfAll.reviewText.iloc[0]])"
   ]
  },
  {
   "cell_type": "code",
   "execution_count": 50,
   "metadata": {},
   "outputs": [],
   "source": [
    "# remove special characters\n",
    "letters = list('abcdefghijklmnopqrstuvwxyz')\n",
    "numbers = list('123456789')\n",
    "stop_words = stop_words.union(set(letters)).union(set(numbers))"
   ]
  },
  {
   "cell_type": "code",
   "execution_count": 57,
   "metadata": {},
   "outputs": [],
   "source": [
    "# doctag will just be the ASIN so we don't need to process\n",
    "# preprocess review text using above code\n",
    "# allow for common phrases to be grouped together like \"science_fiction\"\n",
    "def make_movie_doc(text, title, drop_stopwords=True):\n",
    "    \"\"\"Make documents into LabeledSentence objects for doc2vec training\"\"\"\n",
    "    doctag = title #'_'.join(preprocess(title))    \n",
    "    docwords = list(filter(lambda word: word not in stop_words,\n",
    "                      bigram[preprocess(text)]))\n",
    "    return TaggedDocument(docwords, [doctag])\n",
    "\n",
    "# note: can also lemmatize and stem, but seemed to work ok without it\n",
    "# not sure how stemming would work with names (e.g. author)"
   ]
  },
  {
   "cell_type": "code",
   "execution_count": 56,
   "metadata": {},
   "outputs": [],
   "source": [
    "bigram = Phrases(map(preprocess, dfAll.reviewText.tolist())) "
   ]
  },
  {
   "cell_type": "code",
   "execution_count": 60,
   "metadata": {},
   "outputs": [],
   "source": [
    "DOCS = [make_movie_doc(text, title) for text, title in\n",
    "        zip(dfAll.reviewText.tolist(), dfAll.asin.tolist())]"
   ]
  },
  {
   "cell_type": "code",
   "execution_count": 61,
   "metadata": {},
   "outputs": [],
   "source": [
    "shuffle(DOCS)"
   ]
  },
  {
   "cell_type": "code",
   "execution_count": 62,
   "metadata": {},
   "outputs": [],
   "source": [
    "cores = multiprocessing.cpu_count()"
   ]
  },
  {
   "cell_type": "code",
   "execution_count": 63,
   "metadata": {},
   "outputs": [],
   "source": [
    "model = Doc2Vec(dm=0, dbow_words=1, min_count=2, negative=5,\n",
    "                hs=0, sample=0, window=5, vector_size=300, epochs=20, workers=cores)"
   ]
  },
  {
   "cell_type": "code",
   "execution_count": 64,
   "metadata": {},
   "outputs": [],
   "source": [
    "model.build_vocab(DOCS)"
   ]
  },
  {
   "cell_type": "code",
   "execution_count": 66,
   "metadata": {},
   "outputs": [],
   "source": [
    "# train the model\n",
    "model.train(DOCS, total_examples=len(DOCS), epochs=20)"
   ]
  },
  {
   "cell_type": "code",
   "execution_count": 71,
   "metadata": {},
   "outputs": [],
   "source": [
    "# helper functions for convertin from ASIN to other info\n",
    "def getTitle(asin):\n",
    "    return dfAll[dfAll['asin']==asin].title.values[0]"
   ]
  },
  {
   "cell_type": "code",
   "execution_count": 93,
   "metadata": {},
   "outputs": [],
   "source": [
    "def getMedium(asin):\n",
    "    return dfAll[dfAll['asin']==asin].medium.values[0]"
   ]
  },
  {
   "cell_type": "code",
   "execution_count": 72,
   "metadata": {},
   "outputs": [
    {
     "data": {
      "text/plain": [
       "'The Spy Who Came in from the Cold (French Edition)'"
      ]
     },
     "execution_count": 72,
     "metadata": {},
     "output_type": "execute_result"
    }
   ],
   "source": [
    "getTitle('0141194529')"
   ]
  },
  {
   "cell_type": "code",
   "execution_count": 143,
   "metadata": {},
   "outputs": [
    {
     "data": {
      "text/plain": [
       "[('adore', 0.8502992391586304),\n",
       " ('loved', 0.8260433077812195),\n",
       " ('loves', 0.806640088558197),\n",
       " ('routined', 0.7842212319374084),\n",
       " ('mustt', 0.7833786606788635),\n",
       " ('enjoy', 0.7832635641098022),\n",
       " ('hylander', 0.7832064032554626),\n",
       " ('lynn_mcclure', 0.7787688970565796),\n",
       " ('storyandbite', 0.777694821357727),\n",
       " ('copeing', 0.7748092412948608)]"
      ]
     },
     "execution_count": 143,
     "metadata": {},
     "output_type": "execute_result"
    }
   ],
   "source": [
    "# check word embeddings:\n",
    "model.wv.most_similar_cosmul(positive = ['love'])"
   ]
  },
  {
   "cell_type": "code",
   "execution_count": 144,
   "metadata": {},
   "outputs": [
    {
     "data": {
      "text/plain": [
       "[('wars', 0.8714832067489624),\n",
       " ('war_ii', 0.8387480974197388),\n",
       " ('wwi', 0.8385044932365417),\n",
       " ('wwii', 0.8348910808563232),\n",
       " ('civil_war', 0.8262279629707336),\n",
       " ('ww_ii', 0.8186373114585876),\n",
       " ('warfare', 0.8158881068229675),\n",
       " ('ww2', 0.8144698143005371),\n",
       " ('waged', 0.8095280528068542),\n",
       " ('ww1', 0.8082234263420105)]"
      ]
     },
     "execution_count": 144,
     "metadata": {},
     "output_type": "execute_result"
    }
   ],
   "source": [
    "model.wv.most_similar_cosmul(positive = ['war'])"
   ]
  },
  {
   "cell_type": "code",
   "execution_count": 145,
   "metadata": {},
   "outputs": [
    {
     "data": {
      "text/plain": [
       "[('as2001', 0.7907372117042542),\n",
       " ('space_travel', 0.7858055233955383),\n",
       " ('chiep', 0.7854652404785156),\n",
       " ('continuem', 0.7849547863006592),\n",
       " ('spaceship', 0.781318724155426),\n",
       " ('spacecraft', 0.7809067964553833),\n",
       " ('newtownian', 0.7794908285140991),\n",
       " ('transluminal', 0.7785918116569519),\n",
       " ('2850', 0.777809739112854),\n",
       " ('collapsers', 0.7769001126289368)]"
      ]
     },
     "execution_count": 145,
     "metadata": {},
     "output_type": "execute_result"
    }
   ],
   "source": [
    "model.wv.most_similar_cosmul(positive = ['space'])"
   ]
  },
  {
   "cell_type": "code",
   "execution_count": 146,
   "metadata": {},
   "outputs": [
    {
     "data": {
      "text/plain": [
       "[('queen', 0.9074888825416565),\n",
       " ('fredrico', 0.8191695809364319),\n",
       " ('likedmary', 0.8183016777038574),\n",
       " ('etampes', 0.815883457660675),\n",
       " ('schahzeman', 0.805086076259613),\n",
       " ('scotsemblems', 0.8044558763504028),\n",
       " ('princess', 0.8033193349838257),\n",
       " ('ayuthaya', 0.8028899431228638),\n",
       " ('thesseus', 0.8025191426277161),\n",
       " ('aquitain', 0.8015168905258179)]"
      ]
     },
     "execution_count": 146,
     "metadata": {},
     "output_type": "execute_result"
    }
   ],
   "source": [
    "# the \"classic\" demonstration in doc2vec\n",
    "model.wv.most_similar_cosmul(negative = [\"man\"], positive = [\"king\",\"woman\"])"
   ]
  },
  {
   "cell_type": "code",
   "execution_count": 1,
   "metadata": {},
   "outputs": [
    {
     "ename": "NameError",
     "evalue": "name 'model' is not defined",
     "output_type": "error",
     "traceback": [
      "\u001b[0;31m---------------------------------------------------------------------------\u001b[0m",
      "\u001b[0;31mNameError\u001b[0m                                 Traceback (most recent call last)",
      "\u001b[0;32m<ipython-input-1-e9e660541ac0>\u001b[0m in \u001b[0;36m<module>\u001b[0;34m\u001b[0m\n\u001b[0;32m----> 1\u001b[0;31m \u001b[0;32mfor\u001b[0m \u001b[0mrec\u001b[0m \u001b[0;32min\u001b[0m \u001b[0mmodel\u001b[0m\u001b[0;34m.\u001b[0m\u001b[0mdocvecs\u001b[0m\u001b[0;34m.\u001b[0m\u001b[0mmost_similar\u001b[0m\u001b[0;34m(\u001b[0m\u001b[0;34m[\u001b[0m\u001b[0mmodel\u001b[0m\u001b[0;34m[\u001b[0m\u001b[0;34m'spy'\u001b[0m\u001b[0;34m]\u001b[0m\u001b[0;34m]\u001b[0m\u001b[0;34m)\u001b[0m\u001b[0;34m:\u001b[0m\u001b[0;34m\u001b[0m\u001b[0;34m\u001b[0m\u001b[0m\n\u001b[0m\u001b[1;32m      2\u001b[0m     \u001b[0mprint\u001b[0m\u001b[0;34m(\u001b[0m\u001b[0mgetMedium\u001b[0m\u001b[0;34m(\u001b[0m\u001b[0mrec\u001b[0m\u001b[0;34m[\u001b[0m\u001b[0;36m0\u001b[0m\u001b[0;34m]\u001b[0m\u001b[0;34m)\u001b[0m\u001b[0;34m,\u001b[0m \u001b[0;34m': '\u001b[0m\u001b[0;34m,\u001b[0m \u001b[0mgetTitle\u001b[0m\u001b[0;34m(\u001b[0m\u001b[0mrec\u001b[0m\u001b[0;34m[\u001b[0m\u001b[0;36m0\u001b[0m\u001b[0;34m]\u001b[0m\u001b[0;34m)\u001b[0m\u001b[0;34m,\u001b[0m \u001b[0mrec\u001b[0m\u001b[0;34m[\u001b[0m\u001b[0;36m1\u001b[0m\u001b[0;34m]\u001b[0m\u001b[0;34m)\u001b[0m\u001b[0;34m\u001b[0m\u001b[0;34m\u001b[0m\u001b[0m\n",
      "\u001b[0;31mNameError\u001b[0m: name 'model' is not defined"
     ]
    }
   ],
   "source": [
    "# try out some of the recommendations:\n",
    "for rec in model.docvecs.most_similar([model['spy']]):\n",
    "    print(getMedium(rec[0]), ': ', getTitle(rec[0]), rec[1])"
   ]
  },
  {
   "cell_type": "code",
   "execution_count": 103,
   "metadata": {},
   "outputs": [
    {
     "name": "stdout",
     "output_type": "stream",
     "text": [
      "book :  Matt Helm - Murderers' Row 0.5641220808029175\n",
      "book :  Highland Scoundrel (Highland Brides) 0.5342029333114624\n",
      "book :  Spy Princess: The Life of Noor Inayat Khan 0.5263435244560242\n",
      "book :  The Nicholas Sparks Holiday Collection 0.5212256908416748\n",
      "book :  After the Greek Affair 0.5169734954833984\n",
      "book :  Papadaddy's book for new fathers 0.5104568600654602\n",
      "book :  The Best of Our Spies 0.5089303255081177\n",
      "book :  The Unofficial Suitor 0.5067099928855896\n",
      "book :  Tempt the Devil 0.5026914477348328\n",
      "book :  Date Out of Your League 0.5025393962860107\n"
     ]
    }
   ],
   "source": [
    "# neat! it adds Spy Princess and Highland Brides which were not there before\n",
    "for rec in model.docvecs.most_similar([model['spy'] + model['woman']]):\n",
    "    print(getMedium(rec[0]), ': ', getTitle(rec[0]), rec[1])"
   ]
  },
  {
   "cell_type": "code",
   "execution_count": 130,
   "metadata": {},
   "outputs": [
    {
     "name": "stdout",
     "output_type": "stream",
     "text": [
      "book :  Nebula 0.5876638889312744\n",
      "book :  We Will Destroy Your Planet: An Alien's Guide to Conquering the Earth (Dark) 0.5814547538757324\n",
      "book :  Sherlock Holmes: The Coils of Time & Other Stories 0.5679984092712402\n",
      "book :  Who Was Paul Revere? 0.5587623715400696\n",
      "book :  Brother Assassin (berserker saga, two) 0.5407229065895081\n",
      "book :  Aftermath (Star Trek) (Starfleet Corps of Engineers #29) 0.5397956967353821\n",
      "book :  From the Sea to the Stars 0.5314494967460632\n",
      "book :  George Adamski - A Herald for the Space Brothers 0.5282795429229736\n",
      "movie :  4 Film Favorites: Sci-Fi  0.5274326801300049\n",
      "book :  Fleet of Angels 0.5264274477958679\n"
     ]
    }
   ],
   "source": [
    "for rec in model.docvecs.most_similar([model['space'],model['alien'],model['invasion']]):\n",
    "    print(getMedium(rec[0]), ': ', getTitle(rec[0]), rec[1])"
   ]
  },
  {
   "cell_type": "code",
   "execution_count": 121,
   "metadata": {},
   "outputs": [],
   "source": [
    "from operator import itemgetter"
   ]
  },
  {
   "cell_type": "code",
   "execution_count": 123,
   "metadata": {},
   "outputs": [
    {
     "name": "stdout",
     "output_type": "stream",
     "text": [
      "\n",
      "Query: A Moorland Hanging\n",
      "movie: Indian Doctor: Series Two 0.447557270526886\n",
      "movie: Star Trek: Next Generation - Chain of Command  0.49740082025527954\n",
      "movie: Catherine Cookson Boxed Set 0.5029106140136719\n",
      "movie: The Gene Autry Show - The Final Season 0.5066783130168915\n",
      "movie: Dalziel & Pascoe Series 2  0.5081641674041748\n",
      "movie: Gimme A Break: Season 2 0.5153225660324097\n",
      "movie: Triple Feature: The Last House on the Left / The Strangers / A Perfect Getaway 0.5276615917682648\n",
      "movie: Report to the Commissioner  0.5293062329292297\n",
      "movie: In the Family 0.5334608852863312\n",
      "movie: Silver Screen Romances: 8 Movie Set 0.5389738082885742\n",
      "\n",
      "Query: An offer he can't refuse\n",
      "movie: Zatoichi 23 - Zatoichi at Large 0.666980654001236\n",
      "movie: MISTAKEN IDENTITY 0.6681159138679504\n",
      "movie: Buffalo 66  0.6718172430992126\n",
      "movie: The Bible Collection - 12  Set - TNT 0.6723695993423462\n",
      "movie: Juden Chan 0.6737367510795593\n",
      "movie: Porkchop 0.677799642086029\n",
      "movie: Simon & Simon: Season 5 0.6794920265674591\n",
      "movie: Digimon Frontier: Season 4 0.6842195391654968\n",
      "movie: All My Sons  0.6853896379470825\n",
      "movie: Diamond Hunters 0.6867903172969818\n",
      "\n",
      "Query: The Care and Feeding of Unmarried Men (Avon Contemporary Romance)\n",
      "movie: The Last Fall 0.6061744391918182\n",
      "movie: Indian Doctor: Series Two 0.6488094925880432\n",
      "movie: Melrose Place: Season 4 0.6576289534568787\n",
      "movie: Super Bowl XXXI-XL Collector's Set 0.6792849898338318\n",
      "movie: Ex-Lady  0.679459810256958\n",
      "movie: Too Scared to Scream 0.6816436946392059\n",
      "movie: The Shocking Miss Pilgrim 0.6832744479179382\n",
      "movie: Dallas: Season 5 0.6852488219738007\n",
      "movie: Cobra - The Complete Series 0.6866825222969055\n",
      "movie: Terror in the Shadows  0.6874424815177917\n",
      "\n",
      "Query: The Body in the Ivy\n",
      "movie: My Bloody Valentine / April Fool's Day 0.6445249319076538\n",
      "movie: Sisters of Death 0.6499143838882446\n",
      "movie: Death Bell: Bloody Camp 0.6528457999229431\n",
      "movie: Ghost Game 0.6544140577316284\n",
      "movie: Voodoo Island/The Four Skulls of Jonathan Drake  0.6575654745101929\n",
      "movie: Dead Man's Island 0.6580842435359955\n",
      "movie: Poirot - Evil Under the Sun 0.6607109308242798\n",
      "movie: The Telling 0.6640461087226868\n",
      "movie: Mystery of a Hansom Cab 0.6700422167778015\n",
      "movie: The House On Sorority Row 0.6728317737579346\n",
      "\n",
      "Query: Blood Roses\n",
      "movie: The Fairly Odd Parents: Season 1 0.6068401336669922\n",
      "movie: The Lion and the Lamb, Told by Amy Grant and Christopher Reeve 0.6094272434711456\n",
      "movie: Indian Doctor: Series Two 0.6152037084102631\n",
      "movie: Todd Rundgren - Healing 0.6162726283073425\n",
      "movie: The Fairly Odd Parents - Superhero Spectacle 0.6224552094936371\n",
      "movie: Sea People 0.6234307885169983\n",
      "movie: Ned's Declassified: The Best of Season 2 0.635182112455368\n",
      "movie: Things Never Said Digital 0.6421986818313599\n",
      "movie: Bible Black: New Testament: Book #1: First Scripture 0.6437231600284576\n",
      "movie: Strawberry Panic: The Complete Series 0.6474660038948059\n"
     ]
    }
   ],
   "source": [
    "for asin in dfAll.asin.tolist()[4000:4005]:\n",
    "    print(\"\\nQuery: %s\"% getTitle(asin))\n",
    "    #doctag = '_'.join(preprocess(title))\n",
    "    dists = []\n",
    "    for m in dfAll.asin[dfAll.medium=='movie'].to_list():\n",
    "        dists.append(model.docvecs.distance(asin, m))\n",
    "    dists = list(zip(dfAll.asin[dfAll.medium=='movie'].to_list(), dists))\n",
    "    dists.sort(key=itemgetter(1))\n",
    "    for movieRec in dists[0:10]:\n",
    "        print('movie:', getTitle(movieRec[0]), movieRec[1])"
   ]
  },
  {
   "cell_type": "code",
   "execution_count": 73,
   "metadata": {},
   "outputs": [
    {
     "name": "stderr",
     "output_type": "stream",
     "text": [
      "/anaconda3/envs/insight/lib/python3.7/site-packages/smart_open/smart_open_lib.py:398: UserWarning: This function is deprecated, use smart_open.open instead. See the migration notes for details: https://github.com/RaRe-Technologies/smart_open/blob/master/README.rst#migrating-to-the-new-open-function\n",
      "  'See the migration notes for details: %s' % _MIGRATION_NOTES_URL\n"
     ]
    }
   ],
   "source": [
    "model.save('d2v_2.model')"
   ]
  },
  {
   "cell_type": "code",
   "execution_count": 104,
   "metadata": {},
   "outputs": [],
   "source": [
    "model.delete_temporary_training_data(keep_doctags_vectors=True, keep_inference=True)"
   ]
  },
  {
   "cell_type": "code",
   "execution_count": 131,
   "metadata": {},
   "outputs": [
    {
     "data": {
      "text/plain": [
       "<gensim.models.keyedvectors.Doc2VecKeyedVectors at 0x1e2521db70>"
      ]
     },
     "execution_count": 131,
     "metadata": {},
     "output_type": "execute_result"
    }
   ],
   "source": [
    "model.docvecs"
   ]
  },
  {
   "cell_type": "code",
   "execution_count": 137,
   "metadata": {},
   "outputs": [
    {
     "ename": "TypeError",
     "evalue": "unhashable type: 'list'",
     "output_type": "error",
     "traceback": [
      "\u001b[0;31m---------------------------------------------------------------------------\u001b[0m",
      "\u001b[0;31mTypeError\u001b[0m                                 Traceback (most recent call last)",
      "\u001b[0;32m<ipython-input-137-f574ad9e5996>\u001b[0m in \u001b[0;36m<module>\u001b[0;34m\u001b[0m\n\u001b[0;32m----> 1\u001b[0;31m \u001b[0mmodel\u001b[0m\u001b[0;34m.\u001b[0m\u001b[0mdocvecs\u001b[0m\u001b[0;34m.\u001b[0m\u001b[0mget_vector\u001b[0m\u001b[0;34m(\u001b[0m\u001b[0;34m[\u001b[0m\u001b[0mdfAll\u001b[0m\u001b[0;34m.\u001b[0m\u001b[0masin\u001b[0m\u001b[0;34m.\u001b[0m\u001b[0miloc\u001b[0m\u001b[0;34m[\u001b[0m\u001b[0;36m0\u001b[0m\u001b[0;34m]\u001b[0m\u001b[0;34m]\u001b[0m\u001b[0;34m)\u001b[0m\u001b[0;34m\u001b[0m\u001b[0;34m\u001b[0m\u001b[0m\n\u001b[0m",
      "\u001b[0;32m/anaconda3/envs/insight/lib/python3.7/site-packages/gensim/models/keyedvectors.py\u001b[0m in \u001b[0;36mget_vector\u001b[0;34m(self, entity)\u001b[0m\n\u001b[1;32m    268\u001b[0m \u001b[0;34m\u001b[0m\u001b[0m\n\u001b[1;32m    269\u001b[0m         \"\"\"\n\u001b[0;32m--> 270\u001b[0;31m         \u001b[0;32mif\u001b[0m \u001b[0mentity\u001b[0m \u001b[0;32min\u001b[0m \u001b[0mself\u001b[0m\u001b[0;34m.\u001b[0m\u001b[0mvocab\u001b[0m\u001b[0;34m:\u001b[0m\u001b[0;34m\u001b[0m\u001b[0;34m\u001b[0m\u001b[0m\n\u001b[0m\u001b[1;32m    271\u001b[0m             \u001b[0mresult\u001b[0m \u001b[0;34m=\u001b[0m \u001b[0mself\u001b[0m\u001b[0;34m.\u001b[0m\u001b[0mvectors\u001b[0m\u001b[0;34m[\u001b[0m\u001b[0mself\u001b[0m\u001b[0;34m.\u001b[0m\u001b[0mvocab\u001b[0m\u001b[0;34m[\u001b[0m\u001b[0mentity\u001b[0m\u001b[0;34m]\u001b[0m\u001b[0;34m.\u001b[0m\u001b[0mindex\u001b[0m\u001b[0;34m]\u001b[0m\u001b[0;34m\u001b[0m\u001b[0;34m\u001b[0m\u001b[0m\n\u001b[1;32m    272\u001b[0m             \u001b[0mresult\u001b[0m\u001b[0;34m.\u001b[0m\u001b[0msetflags\u001b[0m\u001b[0;34m(\u001b[0m\u001b[0mwrite\u001b[0m\u001b[0;34m=\u001b[0m\u001b[0;32mFalse\u001b[0m\u001b[0;34m)\u001b[0m\u001b[0;34m\u001b[0m\u001b[0;34m\u001b[0m\u001b[0m\n",
      "\u001b[0;31mTypeError\u001b[0m: unhashable type: 'list'"
     ]
    }
   ],
   "source": [
    "model.docvecs.get_vector(dfAll.asin.iloc[0])"
   ]
  },
  {
   "cell_type": "code",
   "execution_count": 9,
   "metadata": {},
   "outputs": [],
   "source": [
    "import numpy as np"
   ]
  },
  {
   "cell_type": "code",
   "execution_count": 4,
   "metadata": {},
   "outputs": [
    {
     "ename": "NameError",
     "evalue": "name 'np' is not defined",
     "output_type": "error",
     "traceback": [
      "\u001b[0;31m---------------------------------------------------------------------------\u001b[0m",
      "\u001b[0;31mNameError\u001b[0m                                 Traceback (most recent call last)",
      "\u001b[0;32m<ipython-input-4-1c11a5807e90>\u001b[0m in \u001b[0;36m<module>\u001b[0;34m\u001b[0m\n\u001b[0;32m----> 1\u001b[0;31m \u001b[0mt\u001b[0m \u001b[0;34m=\u001b[0m \u001b[0mnp\u001b[0m\u001b[0;34m.\u001b[0m\u001b[0mload\u001b[0m\u001b[0;34m(\u001b[0m\u001b[0;34m'd2v_2.model.docvecs.vectors_docs.npy'\u001b[0m\u001b[0;34m)\u001b[0m\u001b[0;34m\u001b[0m\u001b[0;34m\u001b[0m\u001b[0m\n\u001b[0m",
      "\u001b[0;31mNameError\u001b[0m: name 'np' is not defined"
     ]
    }
   ],
   "source": [
    "t = np.load('d2v_2.model.docvecs.vectors_docs.npy')"
   ]
  },
  {
   "cell_type": "code",
   "execution_count": 5,
   "metadata": {},
   "outputs": [
    {
     "name": "stderr",
     "output_type": "stream",
     "text": [
      "/anaconda3/envs/insight/lib/python3.7/site-packages/smart_open/smart_open_lib.py:398: UserWarning: This function is deprecated, use smart_open.open instead. See the migration notes for details: https://github.com/RaRe-Technologies/smart_open/blob/master/README.rst#migrating-to-the-new-open-function\n",
      "  'See the migration notes for details: %s' % _MIGRATION_NOTES_URL\n"
     ]
    }
   ],
   "source": [
    "model= Doc2Vec.load('webapp2/recallapp/data/d2v_2.model')"
   ]
  },
  {
   "cell_type": "code",
   "execution_count": 18,
   "metadata": {},
   "outputs": [],
   "source": [
    "docvecAsins = list(model.docvecs.doctags.keys())"
   ]
  },
  {
   "cell_type": "code",
   "execution_count": 41,
   "metadata": {},
   "outputs": [],
   "source": [
    "df = pd.read_csv('webapp2/recallapp/data/asinCombo.csv')"
   ]
  },
  {
   "cell_type": "code",
   "execution_count": 42,
   "metadata": {},
   "outputs": [],
   "source": [
    "df.drop(df.columns[0], axis=1, inplace=True)"
   ]
  },
  {
   "cell_type": "code",
   "execution_count": 43,
   "metadata": {},
   "outputs": [
    {
     "data": {
      "text/plain": [
       "'http://ecx.images-amazon.com/images/I/51ZSC6TKS3L.jpg'"
      ]
     },
     "execution_count": 43,
     "metadata": {},
     "output_type": "execute_result"
    }
   ],
   "source": [
    "df.iloc[1].imUrl"
   ]
  },
  {
   "cell_type": "code",
   "execution_count": 53,
   "metadata": {},
   "outputs": [],
   "source": [
    "asinVals = df.asin.values"
   ]
  },
  {
   "cell_type": "code",
   "execution_count": 48,
   "metadata": {},
   "outputs": [],
   "source": [
    "missingAsins = []"
   ]
  },
  {
   "cell_type": "code",
   "execution_count": 54,
   "metadata": {},
   "outputs": [
    {
     "ename": "KeyboardInterrupt",
     "evalue": "",
     "output_type": "error",
     "traceback": [
      "\u001b[0;31m---------------------------------------------------------------------------\u001b[0m",
      "\u001b[0;31mKeyboardInterrupt\u001b[0m                         Traceback (most recent call last)",
      "\u001b[0;32m<ipython-input-54-d1d8428b6ec5>\u001b[0m in \u001b[0;36m<module>\u001b[0;34m\u001b[0m\n\u001b[1;32m      1\u001b[0m \u001b[0;32mfor\u001b[0m \u001b[0md\u001b[0m \u001b[0;32min\u001b[0m \u001b[0mdocvecAsins\u001b[0m\u001b[0;34m:\u001b[0m\u001b[0;34m\u001b[0m\u001b[0;34m\u001b[0m\u001b[0m\n\u001b[0;32m----> 2\u001b[0;31m     \u001b[0;32mif\u001b[0m \u001b[0md\u001b[0m \u001b[0;32mnot\u001b[0m \u001b[0;32min\u001b[0m \u001b[0masinVals\u001b[0m\u001b[0;34m:\u001b[0m\u001b[0;34m\u001b[0m\u001b[0;34m\u001b[0m\u001b[0m\n\u001b[0m\u001b[1;32m      3\u001b[0m         \u001b[0mmissingAsins\u001b[0m\u001b[0;34m.\u001b[0m\u001b[0mappend\u001b[0m\u001b[0;34m(\u001b[0m\u001b[0md\u001b[0m\u001b[0;34m)\u001b[0m\u001b[0;34m\u001b[0m\u001b[0;34m\u001b[0m\u001b[0m\n",
      "\u001b[0;31mKeyboardInterrupt\u001b[0m: "
     ]
    }
   ],
   "source": [
    "for d in docvecAsins:\n",
    "    if d not in asinVals:\n",
    "        missingAsins.append(d)"
   ]
  },
  {
   "cell_type": "code",
   "execution_count": 46,
   "metadata": {},
   "outputs": [
    {
     "data": {
      "text/plain": [
       "283817"
      ]
     },
     "execution_count": 46,
     "metadata": {},
     "output_type": "execute_result"
    }
   ],
   "source": [
    "len(missingAsins)"
   ]
  },
  {
   "cell_type": "code",
   "execution_count": 56,
   "metadata": {},
   "outputs": [],
   "source": [
    "missingAsins = list(set(asinVals) - set(docvecAsins))"
   ]
  },
  {
   "cell_type": "code",
   "execution_count": 57,
   "metadata": {},
   "outputs": [
    {
     "data": {
      "text/plain": [
       "141697"
      ]
     },
     "execution_count": 57,
     "metadata": {},
     "output_type": "execute_result"
    }
   ],
   "source": [
    "len(missingAsins)"
   ]
  },
  {
   "cell_type": "code",
   "execution_count": 59,
   "metadata": {},
   "outputs": [
    {
     "name": "stderr",
     "output_type": "stream",
     "text": [
      "/anaconda3/envs/insight/lib/python3.7/site-packages/IPython/core/interactiveshell.py:3049: DtypeWarning: Columns (4,9) have mixed types. Specify dtype option on import or set low_memory=False.\n",
      "  interactivity=interactivity, compiler=compiler, result=result)\n"
     ]
    }
   ],
   "source": [
    "df2 = pd.read_csv('/Users/genna/Downloads/movieMetaData.csv')"
   ]
  },
  {
   "cell_type": "code",
   "execution_count": 66,
   "metadata": {},
   "outputs": [],
   "source": [
    "foundSome = list(set(df2.asin.values).intersection(missingAsins))"
   ]
  },
  {
   "cell_type": "code",
   "execution_count": 67,
   "metadata": {},
   "outputs": [
    {
     "data": {
      "text/plain": [
       "2"
      ]
     },
     "execution_count": 67,
     "metadata": {},
     "output_type": "execute_result"
    }
   ],
   "source": [
    "len(foundSome)"
   ]
  },
  {
   "cell_type": "code",
   "execution_count": 76,
   "metadata": {},
   "outputs": [],
   "source": [
    "df3 = pd.read_csv('/Users/genna/Downloads/books_commonReviewers_grouped.csv')"
   ]
  },
  {
   "cell_type": "code",
   "execution_count": 77,
   "metadata": {},
   "outputs": [],
   "source": [
    "foundSome = list(set(df3.asin.values).intersection(missingAsins))"
   ]
  },
  {
   "cell_type": "code",
   "execution_count": 78,
   "metadata": {},
   "outputs": [
    {
     "data": {
      "text/plain": [
       "252"
      ]
     },
     "execution_count": 78,
     "metadata": {},
     "output_type": "execute_result"
    }
   ],
   "source": [
    "len(foundSome)"
   ]
  },
  {
   "cell_type": "code",
   "execution_count": null,
   "metadata": {},
   "outputs": [],
   "source": []
  }
 ],
 "metadata": {
  "kernelspec": {
   "display_name": "Python 3",
   "language": "python",
   "name": "python3"
  },
  "language_info": {
   "codemirror_mode": {
    "name": "ipython",
    "version": 3
   },
   "file_extension": ".py",
   "mimetype": "text/x-python",
   "name": "python",
   "nbconvert_exporter": "python",
   "pygments_lexer": "ipython3",
   "version": "3.7.3"
  }
 },
 "nbformat": 4,
 "nbformat_minor": 2
}
